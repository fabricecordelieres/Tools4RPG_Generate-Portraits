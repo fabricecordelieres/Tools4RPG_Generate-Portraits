{
  "nbformat": 4,
  "nbformat_minor": 0,
  "metadata": {
    "colab": {
      "provenance": [],
      "authorship_tag": "ABX9TyOMSSGnRS9YDtrL5ISfdT6L",
      "include_colab_link": true
    },
    "kernelspec": {
      "name": "python3",
      "display_name": "Python 3"
    },
    "language_info": {
      "name": "python"
    }
  },
  "cells": [
    {
      "cell_type": "markdown",
      "metadata": {
        "id": "view-in-github",
        "colab_type": "text"
      },
      "source": [
        "<a href=\"https://colab.research.google.com/github/fabricecordelieres/Tools4RPG_Generate-Portraits/blob/main/This_person_does_not_exist_Script.ipynb\" target=\"_parent\"><img src=\"https://colab.research.google.com/assets/colab-badge.svg\" alt=\"Open In Colab\"/></a>"
      ]
    },
    {
      "cell_type": "markdown",
      "source": [
        "#Generate-Portraits Script (This_person_does_not_exist)\n",
        "\n",
        "*When playing contemporary RPG, it might be usefull to get NPC portraits. Google Image might be a good source of pictures, having however the drawback to offer portraits of \"real persons\". To circunvent this problem, other sources might be used, such as the [This person does not exist website](https://thispersondoesnotexist.com/) by [Karras et al. and Nvidia](https://research.nvidia.com/person/tero-karras).\n",
        "However, the website does not currently allow setting parameters and a random portrait will be generated. As a consequence, one might have to refresh multiple times the webpage to finally get the appropriate portrait.\n",
        "To work around this problem, the present script allows generating several portraits, and download them. The GM might then be able to pickup a portrait, from a large list of generated images.*"
      ],
      "metadata": {
        "id": "-cXzHA9zPxsa"
      }
    },
    {
      "cell_type": "code",
      "execution_count": null,
      "metadata": {
        "id": "3vjHmZjQOV7Q"
      },
      "outputs": [],
      "source": [
        "!pip install tqdm                             # This library allows displaying a progress bar during the portraits' generation"
      ]
    },
    {
      "cell_type": "code",
      "source": [
        "# Importing modules\n",
        "import urllib.request\n",
        "import os\n",
        "from zipfile import ZipFile\n",
        "from google.colab import files\n",
        "from tqdm import tqdm\n",
        "from time import time, sleep\n",
        "\n",
        "# Fetches an image from the 'this person does not exist' website and saves it to disk\n",
        "def fetchImage(output_name):\n",
        "  opener = urllib.request.build_opener()\n",
        "  opener.addheaders = [('User-Agent', 'Mozilla/5.0 (Macintosh; Intel Mac OS X 10_11_5) AppleWebKit/537.36 (KHTML, like Gecko) Chrome/50.0.2661.102 Safari/537.36')]\n",
        "  urllib.request.install_opener(opener)\n",
        "\n",
        "  url_csv = \"https://www.thispersondoesnotexist.com/image\"\n",
        "  _ = urllib.request.urlretrieve(url_csv, output_name)"
      ],
      "metadata": {
        "id": "wF6WbFX0TGx4"
      },
      "execution_count": null,
      "outputs": []
    },
    {
      "cell_type": "code",
      "source": [
        "n_images=128                                    # Number of images to generate\n",
        "delay=0.5                                       # Avoid having duplicates\n",
        "out='/content/'\n",
        "zip='/content/ThisPersonDoesNotExist_'+str(n_images)+'.zip'\n",
        "\n",
        "if not os.path.exists(out):                     # Only usefull is temporrary images are saved\n",
        "  os.mkdir(out)                                 # in a folder different front the drive's root\n",
        "\n",
        "zip_out = ZipFile(zip, \"w\")                     # Creates the output zip file in the out folder\n",
        "for i in tqdm(range(n_images)):                 # Loop uses the tqdm package to display a progress bar\n",
        "  name=str(i).rjust(4, '0')+'.png'\n",
        "  fetchImage(out+name)                          # Retrieves and saves the image in the out folder\n",
        "  zip_out.write(os.path.join(out, name), name)  # Adds the generated image into the zip file\n",
        "  os.remove(out+name)                           # Removes the generated image\n",
        "  sleep(delay)                                  # Waits to make sure 2 subsequently generated images are different\n",
        "\n",
        "zip_out.close()                                 # Writes the ending bytes in the zip file\n",
        "files.download(zip)                             # Forces the distant generated zip file to be downloaded to local computer"
      ],
      "metadata": {
        "id": "P-BbQ8UyVAoR"
      },
      "execution_count": null,
      "outputs": []
    },
    {
      "cell_type": "code",
      "source": [
        "# !!! Wait for the download to be completed before running this cell !!!\n",
        "os.remove(zip)                                  # Only required when the script is caleld twice during the same session"
      ],
      "metadata": {
        "id": "2jksFlNiaA2O"
      },
      "execution_count": null,
      "outputs": []
    }
  ]
}