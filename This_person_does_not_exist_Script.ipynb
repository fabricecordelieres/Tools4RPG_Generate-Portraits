{
  "nbformat": 4,
  "nbformat_minor": 0,
  "metadata": {
    "colab": {
      "provenance": [],
      "authorship_tag": "ABX9TyPySNSRfxV3eVmYXHgD1XVL",
      "include_colab_link": true
    },
    "kernelspec": {
      "name": "python3",
      "display_name": "Python 3"
    },
    "language_info": {
      "name": "python"
    }
  },
  "cells": [
    {
      "cell_type": "markdown",
      "metadata": {
        "id": "view-in-github",
        "colab_type": "text"
      },
      "source": [
        "<a href=\"https://colab.research.google.com/github/fabricecordelieres/Tools4RPG_Generate-Portraits/blob/main/This_person_does_not_exist_Script.ipynb\" target=\"_parent\"><img src=\"https://colab.research.google.com/assets/colab-badge.svg\" alt=\"Open In Colab\"/></a>"
      ]
    },
    {
      "cell_type": "markdown",
      "source": [
        "#Generate-Portraits Script (This_person_does_not_exist)\n",
        "\n",
        "*When playing contemporary RPG, it might be usefull to get NPC portraits. Google Image might be a good source of pictures, having however the drawback to offer portraits of \"real persons\". To circunvent this problem, other sources might be used, such as the [This person does not exist website](https://thispersondoesnotexist.com/) by [Karras et al. and Nvidia](https://research.nvidia.com/person/tero-karras).\n",
        "However, the website does not currently allow setting parameters and a random portrait will be generated. As a consequence, one might have to refresh multiple times the webpage to finally get the appropriate portrait.\n",
        "To work around this problem, the present script allows generating several portraits, and download them. The GM might then be able to pickup a portrait, from a large list of generated images.*"
      ],
      "metadata": {
        "id": "-cXzHA9zPxsa"
      }
    },
    {
      "cell_type": "code",
      "execution_count": 1,
      "metadata": {
        "colab": {
          "base_uri": "https://localhost:8080/"
        },
        "id": "3vjHmZjQOV7Q",
        "outputId": "852fb27f-b244-44ac-8725-ec07cdc816a3"
      },
      "outputs": [
        {
          "output_type": "stream",
          "name": "stdout",
          "text": [
            "Looking in indexes: https://pypi.org/simple, https://us-python.pkg.dev/colab-wheels/public/simple/\n",
            "Requirement already satisfied: tqdm in /usr/local/lib/python3.7/dist-packages (4.64.1)\n"
          ]
        }
      ],
      "source": [
        "!pip install tqdm                             # This library allows displaying a progress bar during the portraits' generation"
      ]
    },
    {
      "cell_type": "code",
      "source": [
        "# importing modules\n",
        "import urllib.request\n",
        "import os\n",
        "from zipfile import ZipFile\n",
        "from google.colab import files\n",
        "import shutil\n",
        "\n",
        "# Fetches an image from the 'this person does not exist' website and saves it to disk\n",
        "def fetchImage(output_name):\n",
        "  opener = urllib.request.build_opener()\n",
        "  opener.addheaders = [('User-Agent', 'Mozilla/5.0 (Macintosh; Intel Mac OS X 10_11_5) AppleWebKit/537.36 (KHTML, like Gecko) Chrome/50.0.2661.102 Safari/537.36')]\n",
        "  urllib.request.install_opener(opener)\n",
        "\n",
        "  url_csv = \"https://www.thispersondoesnotexist.com/image\"\n",
        "  _ = urllib.request.urlretrieve(url_csv, output_name)"
      ],
      "metadata": {
        "id": "wF6WbFX0TGx4"
      },
      "execution_count": 2,
      "outputs": []
    },
    {
      "cell_type": "code",
      "source": [
        "from tqdm import tqdm\n",
        "from time import time, sleep\n",
        "\n",
        "\n",
        "n_images=128                                    #Number of images to generate\n",
        "delay=0.5                                       #Avoid having duplicates\n",
        "out='/content/'\n",
        "zip='/content/ThisPersonDoesNotExist_'+str(n_images)+'.zip'\n",
        "\n",
        "if not os.path.exists(out):                     # Only usefull is temporrary images are saved\n",
        "  os.mkdir(out)                                 # in a folder different front the drive's root\n",
        "\n",
        "zip_out = ZipFile(zip, \"w\")                     # Creates the output zip file in the out folder\n",
        "for i in tqdm(range(n_images)):                 # Loop uses the tqdm package to display a progress bar\n",
        "  name=str(i).rjust(4, '0')+'.png'\n",
        "  fetchImage(out+name)                          # Retrieves and saves the image in the out folder\n",
        "  zip_out.write(os.path.join(out, name), name)  # Adds the generated image into the zip file\n",
        "  os.remove(out+name)                           # Removes the generated image\n",
        "  sleep(delay)                                  # Waits to make sure 2 subsequently generated images are different\n",
        "\n",
        "zip_out.close()                                 # Writes the ending bytes in the zip file\n",
        "files.download(zip)                             # Forces the distant generated zip file to be downloaded to local computer"
      ],
      "metadata": {
        "colab": {
          "base_uri": "https://localhost:8080/",
          "height": 34
        },
        "id": "P-BbQ8UyVAoR",
        "outputId": "5557b238-b286-4dce-f2d7-588fd7c33640"
      },
      "execution_count": 3,
      "outputs": [
        {
          "output_type": "stream",
          "name": "stderr",
          "text": [
            "100%|██████████| 2/2 [00:03<00:00,  1.86s/it]\n"
          ]
        },
        {
          "output_type": "display_data",
          "data": {
            "text/plain": [
              "<IPython.core.display.Javascript object>"
            ],
            "application/javascript": [
              "\n",
              "    async function download(id, filename, size) {\n",
              "      if (!google.colab.kernel.accessAllowed) {\n",
              "        return;\n",
              "      }\n",
              "      const div = document.createElement('div');\n",
              "      const label = document.createElement('label');\n",
              "      label.textContent = `Downloading \"${filename}\": `;\n",
              "      div.appendChild(label);\n",
              "      const progress = document.createElement('progress');\n",
              "      progress.max = size;\n",
              "      div.appendChild(progress);\n",
              "      document.body.appendChild(div);\n",
              "\n",
              "      const buffers = [];\n",
              "      let downloaded = 0;\n",
              "\n",
              "      const channel = await google.colab.kernel.comms.open(id);\n",
              "      // Send a message to notify the kernel that we're ready.\n",
              "      channel.send({})\n",
              "\n",
              "      for await (const message of channel.messages) {\n",
              "        // Send a message to notify the kernel that we're ready.\n",
              "        channel.send({})\n",
              "        if (message.buffers) {\n",
              "          for (const buffer of message.buffers) {\n",
              "            buffers.push(buffer);\n",
              "            downloaded += buffer.byteLength;\n",
              "            progress.value = downloaded;\n",
              "          }\n",
              "        }\n",
              "      }\n",
              "      const blob = new Blob(buffers, {type: 'application/binary'});\n",
              "      const a = document.createElement('a');\n",
              "      a.href = window.URL.createObjectURL(blob);\n",
              "      a.download = filename;\n",
              "      div.appendChild(a);\n",
              "      a.click();\n",
              "      div.remove();\n",
              "    }\n",
              "  "
            ]
          },
          "metadata": {}
        },
        {
          "output_type": "display_data",
          "data": {
            "text/plain": [
              "<IPython.core.display.Javascript object>"
            ],
            "application/javascript": [
              "download(\"download_e067a2b0-00a4-467a-bcd7-1598546bcb3e\", \"ThisPersonDoesNotExist_2.zip\", 931475)"
            ]
          },
          "metadata": {}
        }
      ]
    },
    {
      "cell_type": "code",
      "source": [
        "# !!! Wait for the download to be completed before running this cell !!!\n",
        "os.remove(zip)                                  # Only required when the script is caleld twice during the same session"
      ],
      "metadata": {
        "id": "2jksFlNiaA2O"
      },
      "execution_count": 4,
      "outputs": []
    }
  ]
}